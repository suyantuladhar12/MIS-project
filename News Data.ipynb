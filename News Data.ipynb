{
 "cells": [
  {
   "cell_type": "code",
   "execution_count": null,
   "metadata": {
    "vscode": {
     "languageId": "plaintext"
    }
   },
   "outputs": [],
   "source": [
    "import requests\n",
    "import json\n",
    "from nltk.sentiment import SentimentIntensityAnalyzer\n",
    "import nltk\n",
    "\n",
    "nltk.download('vader_lexicon')\n",
    "\n",
    "sia = SentimentIntensityAnalyzer()\n",
    "\n",
    "API_ENDPOINT = \"https://newsdata.io/api/1/latest\"\n",
    "API_KEY = \"\" # Enter your API key here.\n",
    "COUNTRY_CODE = \"NP\"  \n",
    "\n",
    "def fetch_news(api_endpoint, api_key, country_code):\n",
    "    params = {\n",
    "        \"apikey\": api_key,\n",
    "        \"country\": country_code\n",
    "    }\n",
    "    response = requests.get(api_endpoint, params=params)\n",
    "    if response.status_code == 200:\n",
    "        return response.json()\n",
    "    else:\n",
    "        print(f\"Failed to fetch news: {response.status_code}\")\n",
    "        return None\n",
    "\n",
    "def analyze_sentiment(headlines):\n",
    "    results = []\n",
    "    for headline in headlines:\n",
    "        title = headline.get(\"title\", \"\")\n",
    "        description = headline.get(\"description\", \"\")\n",
    "\n",
    "        sentiment_scores = sia.polarity_scores(title)\n",
    "\n",
    "        if sentiment_scores['compound'] >= 0.05:\n",
    "            sentiment_label = \"Positive\"\n",
    "        elif sentiment_scores['compound'] <= -0.05:\n",
    "            sentiment_label = \"Negative\"\n",
    "        else:\n",
    "            sentiment_label = \"Neutral\"\n",
    "\n",
    "        results.append({\n",
    "            \"title\": title,\n",
    "            \"description\": description,\n",
    "            \"sentiment_scores\": sentiment_scores,\n",
    "            \"sentiment_label\": sentiment_label\n",
    "        })\n",
    "    return results\n",
    "\n",
    "def save_to_json(data, filename):\n",
    "    with open(filename, \"w\", encoding=\"utf-8\") as f:\n",
    "        json.dump(data, f, ensure_ascii=False, indent=4)\n",
    "\n",
    "if __name__ == \"__main__\":\n",
    "    news_data = fetch_news(API_ENDPOINT, API_KEY, COUNTRY_CODE)\n",
    "    if news_data and \"results\" in news_data:\n",
    "        headlines = news_data[\"results\"]\n",
    "        analyzed_data = analyze_sentiment(headlines)\n",
    "        save_to_json(analyzed_data, \"news_sentiment_results.json\")\n",
    "        print(\"Sentiment analysis completed. Results saved to 'news_sentiment_results.json'.\")\n",
    "    else:\n",
    "        print(\"No news data found.\")"
   ]
  }
 ],
 "metadata": {
  "language_info": {
   "name": "python"
  }
 },
 "nbformat": 4,
 "nbformat_minor": 2
}
