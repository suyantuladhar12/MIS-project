{
 "cells": [
  {
   "cell_type": "code",
   "execution_count": null,
   "metadata": {
    "vscode": {
     "languageId": "plaintext"
    }
   },
   "outputs": [],
   "source": [
    "import requests\n",
    "import pandas as pd\n",
    "import os\n",
    "\n",
    "\n",
    "def fetch_weather(city_name, api_key):\n",
    "    url = f\"https://api.openweathermap.org/data/2.5/weather?q={city_name}&appid={api_key}&units=metric\"\n",
    "    response = requests.get(url)\n",
    "    data = response.json()\n",
    "\n",
    "    if response.status_code == 200:\n",
    "        try:\n",
    "            temperature = data['main']['temp']\n",
    "            humidity = data['main']['humidity']\n",
    "            description = data['weather'][0]['description']\n",
    "\n",
    "            print(f\"City: {city_name}\")\n",
    "            print(f\"Temperature: {temperature}°C\")\n",
    "            print(f\"Humidity: {humidity}%\")\n",
    "            print(f\"Weather Description: {description}\")\n",
    "\n",
    "            weather_data = {\n",
    "                'City': city_name,\n",
    "                'Temperature': temperature,\n",
    "                'Humidity': humidity,\n",
    "                'Description': description\n",
    "            }\n",
    "            return weather_data\n",
    "        except (KeyError, IndexError) as e:\n",
    "            print(f\"Error: Invalid data received from the API. {e}\")\n",
    "            return None\n",
    "    else:\n",
    "        print(f\"Error: Failed to fetch weather data. Status code: {response.status_code}\")\n",
    "        return None\n",
    "\n",
    "\n",
    "if __name__ == \"__main__\":\n",
    "    city_name = input(\"Enter city name: \")\n",
    "    api_key = \"\"  # Enter your actual API key\n",
    "    weather_info = fetch_weather(city_name, api_key)\n",
    "\n",
    "    if weather_info:\n",
    "        df = pd.DataFrame([weather_info])\n",
    "        csv_file_path = '/content/weather_data.csv'\n",
    "\n",
    "        if not os.path.isfile(csv_file_path):\n",
    "            df.to_csv(csv_file_path, index=False)\n",
    "        else:\n",
    "            df.to_csv(csv_file_path, mode='a', header=False, index=False)\n",
    "        print(f\"Weather data saved to {csv_file_path}\")\n",
    "        print(df)"
   ]
  }
 ],
 "metadata": {
  "language_info": {
   "name": "python"
  }
 },
 "nbformat": 4,
 "nbformat_minor": 2
}
